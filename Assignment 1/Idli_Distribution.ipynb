{
  "nbformat": 4,
  "nbformat_minor": 0,
  "metadata": {
    "colab": {
      "provenance": []
    },
    "kernelspec": {
      "name": "python3",
      "display_name": "Python 3"
    },
    "language_info": {
      "name": "python"
    }
  },
  "cells": [
    {
      "cell_type": "code",
      "execution_count": 2,
      "metadata": {
        "id": "9YxIN_J9OD0U"
      },
      "outputs": [],
      "source": [
        "def distribute(idlis: list[int]) -> int:\n",
        "    # Check if the total number of idlis is odd\n",
        "    if sum(idlis) % 2 == 1:\n",
        "        return -1\n",
        "\n",
        "    # Initialize a variable to count the number of idlis distributed\n",
        "    distributed_idlis = 0\n",
        "\n",
        "    # Iterate through the list of idlis\n",
        "    for i in range(len(idlis)):\n",
        "        # If the current idli count is odd, distribute an idli\n",
        "        if idlis[i] % 2 == 1:\n",
        "            # Increase the idli count for the next person\n",
        "            idlis[i] += 1\n",
        "            # Increment the count of distributed idlis\n",
        "            distributed_idlis += 1\n",
        "\n",
        "            # If the next person exists, increase their idli count\n",
        "            if i + 1 < len(idlis):\n",
        "                idlis[i + 1] += 1\n",
        "                # Increment the count of distributed idlis\n",
        "                distributed_idlis += 1\n",
        "\n",
        "    return distributed_idlis"
      ]
    },
    {
      "cell_type": "code",
      "source": [
        "idlis = [1, 2, 3, 4, 5]\n",
        "print(distribute(idlis))"
      ],
      "metadata": {
        "colab": {
          "base_uri": "https://localhost:8080/"
        },
        "id": "mJdvdzFQOvUg",
        "outputId": "e3f24775-0188-4f52-a92f-22ddbb2e21c3"
      },
      "execution_count": 3,
      "outputs": [
        {
          "output_type": "stream",
          "name": "stdout",
          "text": [
            "-1\n"
          ]
        }
      ]
    },
    {
      "cell_type": "code",
      "source": [
        "idlis = [1, 2, 4, 5, 6]\n",
        "print(distribute(idlis))"
      ],
      "metadata": {
        "colab": {
          "base_uri": "https://localhost:8080/"
        },
        "id": "iTdpswpZRvgN",
        "outputId": "e08d5f04-7375-486f-eaa3-cd923a4bd602"
      },
      "execution_count": 7,
      "outputs": [
        {
          "output_type": "stream",
          "name": "stdout",
          "text": [
            "2\n"
          ]
        }
      ]
    },
    {
      "cell_type": "code",
      "source": [
        "idlis = [2 , 4, 6, 8, 10]\n",
        "print(distribute(idlis))"
      ],
      "metadata": {
        "colab": {
          "base_uri": "https://localhost:8080/"
        },
        "id": "3wIdMnZtaHOd",
        "outputId": "3fb0d3a0-fa78-49ac-ef3e-49b7bfd3707b"
      },
      "execution_count": 9,
      "outputs": [
        {
          "output_type": "stream",
          "name": "stdout",
          "text": [
            "0\n"
          ]
        }
      ]
    }
  ]
}