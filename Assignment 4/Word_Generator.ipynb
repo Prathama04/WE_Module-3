{
  "nbformat": 4,
  "nbformat_minor": 0,
  "metadata": {
    "colab": {
      "provenance": []
    },
    "kernelspec": {
      "name": "python3",
      "display_name": "Python 3"
    },
    "language_info": {
      "name": "python"
    }
  },
  "cells": [
    {
      "cell_type": "code",
      "execution_count": null,
      "metadata": {
        "colab": {
          "base_uri": "https://localhost:8080/"
        },
        "id": "dIQKC2Wdp5kB",
        "outputId": "a83f639e-22dc-4ee7-deb6-979b73598443"
      },
      "outputs": [
        {
          "output_type": "stream",
          "name": "stdout",
          "text": [
            "brown fox jumps over the lazy dog\n"
          ]
        }
      ],
      "source": [
        "import random\n",
        "\n",
        "def generate(sentence: str, start_words: list[str], chain_length: int, num_generated: int) -> str:\n",
        "    # Split the sentence into words\n",
        "    words = sentence.split()\n",
        "\n",
        "    # Build Markov chain dictionary\n",
        "    markov_chain = {}\n",
        "    for i in range(len(words) - chain_length):\n",
        "        key = tuple(words[i:i + chain_length])\n",
        "        value = words[i + chain_length]\n",
        "        if key in markov_chain:\n",
        "            markov_chain[key].append(value)\n",
        "        else:\n",
        "            markov_chain[key] = [value]\n",
        "\n",
        "    # Generate text\n",
        "    start_index = random.randint(0, len(words) - chain_length)\n",
        "    current_words = tuple(words[start_index:start_index + chain_length])\n",
        "    generated_text = list(current_words)\n",
        "\n",
        "    for _ in range(num_generated):\n",
        "        if current_words in markov_chain:\n",
        "            next_word = random.choice(markov_chain[current_words])\n",
        "            generated_text.append(next_word)\n",
        "            current_words = tuple(generated_text[-chain_length:])\n",
        "        else:\n",
        "            break\n",
        "\n",
        "    return ' '.join(generated_text)\n",
        "\n",
        "# Example usage:\n",
        "sentence = \"The quick brown fox jumps over the lazy dog\"\n",
        "start_words = [\"The\", \"quick\"]\n",
        "chain_length = 2\n",
        "num_generated = 20\n",
        "\n",
        "generated_sentence = generate(sentence, start_words, chain_length, num_generated)\n",
        "print(generated_sentence)\n"
      ]
    },
    {
      "cell_type": "code",
      "source": [
        "generated_sentence = generate(sentence, start_words, chain_length, num_generated)\n",
        "print(generated_sentence)"
      ],
      "metadata": {
        "colab": {
          "base_uri": "https://localhost:8080/"
        },
        "id": "E9whjhVbw6p_",
        "outputId": "bb45772a-0d40-4dfd-fe4c-11a9ec770873"
      },
      "execution_count": null,
      "outputs": [
        {
          "output_type": "stream",
          "name": "stdout",
          "text": [
            "jumps over the lazy dog\n"
          ]
        }
      ]
    },
    {
      "cell_type": "code",
      "source": [
        "generated_sentence = generate(sentence, start_words, chain_length, num_generated)\n",
        "print(generated_sentence)"
      ],
      "metadata": {
        "colab": {
          "base_uri": "https://localhost:8080/"
        },
        "id": "3quSigHDw8Cg",
        "outputId": "300f7241-daef-41a1-cfd7-6e960b77ba43"
      },
      "execution_count": null,
      "outputs": [
        {
          "output_type": "stream",
          "name": "stdout",
          "text": [
            "the lazy dog\n"
          ]
        }
      ]
    },
    {
      "cell_type": "code",
      "source": [
        "generated_sentence = generate(sentence, start_words, chain_length, num_generated)\n",
        "print(generated_sentence)"
      ],
      "metadata": {
        "colab": {
          "base_uri": "https://localhost:8080/"
        },
        "id": "OYgZ8gMmw-mj",
        "outputId": "6f96c54f-9361-489c-e7a6-8801a5a72d74"
      },
      "execution_count": null,
      "outputs": [
        {
          "output_type": "stream",
          "name": "stdout",
          "text": [
            "over the lazy dog\n"
          ]
        }
      ]
    }
  ]
}